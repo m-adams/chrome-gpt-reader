{
 "cells": [
  {
   "cell_type": "markdown",
   "metadata": {},
   "source": [
    "To generate audio samples for the project, a utility script is used. This script is designed to automate the process of generating audio files. It utilizes the OpenAI API to convert text into speech. The script takes advantage of the `openai` module and requires an API key for authentication. The API key should be set up at OpenAI's platform. \n",
    "\n",
    "Here is a breakdown of the script's workflow:\n",
    "\n",
    "1. The script starts by defining the necessary variables, including the API key, the text to be converted into speech, and the file path for the generated audio file.\n",
    "\n",
    "2. The `openai.Client` class is instantiated with the provided API key.\n",
    "\n",
    "3. The `openai.Client.audio.speech.create()` method is called to generate the speech audio. The method takes parameters such as the model to be used and the voice to be used for the speech.\n",
    "\n",
    "4. The response from the API is iterated over and the audio data is written to the specified file path using the `open()` function.\n",
    "\n",
    "\n"
   ]
  },
  {
   "cell_type": "code",
   "execution_count": 34,
   "metadata": {},
   "outputs": [],
   "source": [
    "# Uncomment this to install the openai package\n",
    "#%pip install openai"
   ]
  },
  {
   "cell_type": "code",
   "execution_count": 35,
   "metadata": {},
   "outputs": [],
   "source": [
    "greeting = \"\"\"\n",
    "Hi, my name is Sam, I am an experiment in using Chat GPT as a screen reader.\n",
    "I am here to help you with your screen reading needs.\n",
    "To get me to describe the current webpage just click the Describe Page button.\n",
    "To ask a specific question either type it in the box and click Describe Page or click the Speak A Question button to record your question using your voice.\n",
    "You can launch me by using the keyboard shortcut command+shift+y.\n",
    "\"\"\"\n",
    "\n",
    "thanks_for_install = \"\"\"\n",
    "Thank you for installing me. I'm Sam, I am an experiment in using Chat GPT as a screen reader. I am here to help you with your screen reading needs.\n",
    "Please accept the premissions to access your microphone on this page so you can ask questions using your voice later.\n",
    "After you have done that, right click on the extension icon and select options to set up the connection to Chat GPT using an API Key that you can setup at OpenAI just go to platform.openai.com\n",
    "When that is setup you can launch me by clicking on the extension or using the keyboard shortcut command+shift+y.\n",
    "\"\"\"\n",
    "\n",
    "hi = \"Hi, how can I help?\"\n",
    "\n",
    "no_key = \"It looks like you haven't set an API Key yet. Please right click on the extension icon and select options to set up the connection to Chat GPT using an API Key that you can setup at OpenAI just go to platform.openai.com\"\n",
    "\n",
    "\n",
    "please_wait = \"OK, just give me a few seconds\"\n",
    "#speech_file_path = \"./public/wait.mp3\"\n",
    "speech_file_path = \"./public/greeting.mp3\"\n",
    "#speech_file_path = \"./public/install.mp3\"\n",
    "#speech_file_path = \"./public/hi.mp3\"\n",
    "#speech_file_path = \"./public/no_key.mp3\"\n",
    "speech_file_path = \"./public/welcome.mp3\"\n",
    "\n",
    "text = thanks_for_install"
   ]
  },
  {
   "cell_type": "code",
   "execution_count": 36,
   "metadata": {},
   "outputs": [],
   "source": [
    "import os\n",
    "import openai\n",
    "\n",
    "# Check if the OPENAIKEY environment variable is set\n",
    "if 'OPENAI_API_KEY' in os.environ:\n",
    "  apikey = os.environ['OPENAI_API_KEY']\n",
    "else:\n",
    "  # Check if the .apikey file exists\n",
    "  if os.path.exists('.apikey'):\n",
    "    with open('.apikey', 'r') as f:\n",
    "      apikey = f.read().strip()\n",
    "  else:\n",
    "    apikey = None\n",
    "\n",
    "if apikey is None:\n",
    "  print(\"API key not found. Please set the OPENAIKEY environment variable or create a .apikey file.\")\n",
    "else:\n",
    "  client = openai.Client(api_key=apikey)\n",
    "  response = client.audio.speech.create(\n",
    "    model=\"tts-1\",\n",
    "    voice=\"alloy\",\n",
    "    input=text\n",
    "  )\n"
   ]
  },
  {
   "cell_type": "code",
   "execution_count": 37,
   "metadata": {},
   "outputs": [],
   "source": [
    "with open( speech_file_path, 'wb') as f:\n",
    "    for chunk in response.iter_bytes():\n",
    "        f.write(chunk)"
   ]
  }
 ],
 "metadata": {
  "language_info": {
   "name": "python"
  }
 },
 "nbformat": 4,
 "nbformat_minor": 2
}
